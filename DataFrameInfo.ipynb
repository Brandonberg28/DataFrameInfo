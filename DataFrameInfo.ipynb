import pandas as pd  #import pandas 

pd.set_option('display.max_rows', 6)  #set maximum rows displayed to 6
dataFrameContacts = pd.read_csv('contacts.csv', index_col='email')  #read in contacts.csv with email as index col.
print(dataFrameContacts) #Display the data in the DataFrame, print out the contacts

print(dataFrameContacts.info()) #use .info() to display # of non-null values

print("# of rows: ", len(dataFrameContacts))
print("# of columns: ", len(dataFrameContacts.columns))
print("Shape Property: ", dataFrameContacts.shape)

#display first two and last two rows, phone column, first and last columns
print('displaying the head')
print(dataFrameContacts.head(2))
print('displaying the tail')
print(dataFrameContacts.tail(2))

#display the phone column
print(dataFrameContacts['phone'].tolist()) 

#Display the columns named first and last in a DataFrame.
print(dataFrameContacts[['first', 'last']])

#display phone number for row with email=smsmith@yahoo.com
print('display phone number for row with email=smsmith@yahoo.com')
print(dataFrameContacts.loc['smsmith@yahoo.com', 'phone'])

#sort data by last name then first name
dataFrameContacts = dataFrameContacts.sort_values('last')
print(dataFrameContacts)
dataFrameContacts = dataFrameContacts.sort_values('first')
print(dataFrameContacts)

#display rows where first name is Dan
print(dataFrameContacts[dataFrameContacts['first'] == 'Dan'])

#display rows where phone number is missing
print(dataFrameContacts[dataFrameContacts['phone'].isnull()])

#update phone number for tessbijon@bijon.com
dataFrameContacts.at['tessbijon@bijon.com', 'phone'] = '555-1233'
print(dataFrameContacts)

#drop row for tessbijon@gmail.com
dataFrameContacts = dataFrameContacts.drop('tessbijon@gmail.com')

#append a row
newRow = {'first': 'Stef', 'last': 'Smith', 'phone': '801-555-9876'}
dataFrameContacts = dataFrameContacts.append(pd.DataFrame(newRow, index=['stefsmith@gmail.com']))

#using join() to combine contact-sales.csv with dataFrameContacts
dfEmailStates = pd.read_csv('contact-states.csv', index_col='email')
dataFrameContacts.join(dfEmailStates)
